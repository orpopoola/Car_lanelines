{
 "cells": [
  {
   "cell_type": "markdown",
   "metadata": {},
   "source": [
    "## GUI Tunning Tools for Computer Vision"
   ]
  },
  {
   "cell_type": "markdown",
   "metadata": {},
   "source": [
    "In this notebook, we are going to use bqplots and ipywidget to create visual interractive tools that can be used to tune computer vision images and videos\n"
   ]
  },
  {
   "cell_type": "markdown",
   "metadata": {},
   "source": [
    "**1. Importing packages for the GUI Tuner**"
   ]
  },
  {
   "cell_type": "code",
   "execution_count": 1,
   "metadata": {},
   "outputs": [],
   "source": [
    "from ipywidgets.widgets import Label, FloatProgress, FloatSlider, Button, IntSlider\n",
    "from ipywidgets.widgets import interact, interactive, fixed, interact_manual\n",
    "from ipywidgets.widgets import Layout, HBox, VBox\n",
    "from IPython.display import display\n",
    "import matplotlib.pyplot as plt\n",
    "%matplotlib inline\n",
    "import matplotlib.image as mpimg\n",
    "import cv2\n",
    "import numpy as np\n",
    "import bqplot as bq\n",
    "import time\n",
    "import threading"
   ]
  },
  {
   "cell_type": "markdown",
   "metadata": {},
   "source": [
    "**2. Tuner for threshold variation**"
   ]
  },
  {
   "cell_type": "code",
   "execution_count": 2,
   "metadata": {},
   "outputs": [
    {
     "data": {
      "application/vnd.jupyter.widget-view+json": {
       "model_id": "6d73e4dc9ca5440cb9b856da78859b1b",
       "version_major": 2,
       "version_minor": 0
      },
      "text/plain": [
       "interactive(children=(FloatSlider(value=0.0, description='threshold', layout=Layout(margin='0 0 5px 0', width=…"
      ]
     },
     "metadata": {},
     "output_type": "display_data"
    },
    {
     "data": {
      "text/plain": [
       "<function __main__.thresh_func(holda)>"
      ]
     },
     "execution_count": 2,
     "metadata": {},
     "output_type": "execute_result"
    }
   ],
   "source": [
    "#Function for thresholding\n",
    "def thresh_func(holda):\n",
    "    #reading in an image\n",
    "    image = mpimg.imread('car_images/solidWhiteRight.jpg')\n",
    "    #image = mpimg.imread('car_images/image_1.jpg')\n",
    "    #getting dimensions and making copy of the image\n",
    "    ysize = image.shape[0]\n",
    "    xsize = image.shape[1]\n",
    "    treated = np.copy(image)\n",
    "\n",
    "    #setting image threshold\n",
    "    red_thresh = holda\n",
    "    green_thresh = holda\n",
    "    blue_thresh = holda\n",
    "    thresh = [red_thresh, green_thresh, blue_thresh]\n",
    "\n",
    "    # get pixels below threshold\n",
    "    thresh_px = (image[:,:,0]<thresh[0])|(image[:,:,1]<thresh[1])|(image[:,:,2]<thresh[2])\n",
    "\n",
    "    #set the threshold pixels as zero\n",
    "    treated[thresh_px] = [0,0,0]\n",
    "\n",
    "    #Show output\n",
    "    plt.imshow(treated)\n",
    "\n",
    "interact(thresh_func, holda = FloatSlider(value=0,\n",
    "                                                  min = 0,\n",
    "                                                max = 255,\n",
    "                                                description = 'threshold',\n",
    "                                                layout =Layout(width = '490px', margin = '0 0 5px 0')))"
   ]
  },
  {
   "cell_type": "markdown",
   "metadata": {},
   "source": [
    "**3. Edge detection tuner**"
   ]
  },
  {
   "cell_type": "markdown",
   "metadata": {},
   "source": [
    "This GUI Tuner is designed to tune parameters for edge detection"
   ]
  },
  {
   "cell_type": "code",
   "execution_count": 3,
   "metadata": {},
   "outputs": [
    {
     "data": {
      "application/vnd.jupyter.widget-view+json": {
       "model_id": "4171fb141a1944f8a4fcf5cf46a87c4a",
       "version_major": 2,
       "version_minor": 0
      },
      "text/plain": [
       "interactive(children=(IntSlider(value=1, description='kernel size', layout=Layout(margin='0 0 5px 0', width='4…"
      ]
     },
     "metadata": {},
     "output_type": "display_data"
    },
    {
     "data": {
      "text/plain": [
       "<function __main__.edge_func(kernel_size, low_thresh, high_thresh)>"
      ]
     },
     "execution_count": 3,
     "metadata": {},
     "output_type": "execute_result"
    }
   ],
   "source": [
    "#Function for thresholding\n",
    "def edge_func(kernel_size,low_thresh,high_thresh):\n",
    "    #reading in an image\n",
    "    image = mpimg.imread('car_images/solidWhiteRight.jpg')\n",
    "    #image = mpimg.imread('car_images/image_1.jpg')\n",
    "    gray = cv2.cvtColor(image, cv2.COLOR_RGB2GRAY)\n",
    "    #implement gaussian filter\n",
    "    blur_gray = cv2.GaussianBlur(gray, (kernel_size,kernel_size), 0)\n",
    "    #Applying Canny Edge detection\n",
    "    edges = cv2.Canny(blur_gray, low_thresh, high_thresh)\n",
    "\n",
    "    #show output\n",
    "    plt.imshow(edges,cmap = 'Greys_r')\n",
    "\n",
    "interact(edge_func, kernel_size = IntSlider(value=1,\n",
    "                                                  min = 1,\n",
    "                                                max = 31,\n",
    "                                                step =2,\n",
    "                                                description = 'kernel size',\n",
    "                                                layout =Layout(width = '490px', margin = '0 0 5px 0')),\\\n",
    "                                              low_thresh = FloatSlider(value=0,\n",
    "                                                  min = 0,\n",
    "                                                max = 255,\n",
    "                                                description = 'low threshold',\n",
    "                                                layout =Layout(width = '490px', margin = '0 0 5px 0')),\\\n",
    "                                              high_thresh = FloatSlider(value=0,\n",
    "                                                  min = 0,\n",
    "                                                max = 255,\n",
    "                                                description = 'high threshold',\n",
    "                                                layout =Layout(width = '490px', margin = '0 0 5px 0')))"
   ]
  },
  {
   "cell_type": "markdown",
   "metadata": {},
   "source": [
    "**3. Lane Finder tuner**"
   ]
  },
  {
   "cell_type": "code",
   "execution_count": 10,
   "metadata": {},
   "outputs": [
    {
     "data": {
      "application/vnd.jupyter.widget-view+json": {
       "model_id": "faff577aa3864c8894cd0aca89536fbb",
       "version_major": 2,
       "version_minor": 0
      },
      "text/plain": [
       "interactive(children=(IntSlider(value=2, description='Rho', layout=Layout(margin='0 0 5px 0', width='490px'), …"
      ]
     },
     "metadata": {},
     "output_type": "display_data"
    },
    {
     "data": {
      "text/plain": [
       "<function __main__.lane_func(rho, threshold, min_len, max_len)>"
      ]
     },
     "execution_count": 10,
     "metadata": {},
     "output_type": "execute_result"
    }
   ],
   "source": [
    "def lane_func(rho,threshold,min_len,max_len):\n",
    "    #reading in an image\n",
    "    # Read in and grayscale the image\n",
    "    image = mpimg.imread('car_images/solidWhiteRight.jpg')\n",
    "    gray = cv2.cvtColor(image,cv2.COLOR_RGB2GRAY)\n",
    "\n",
    "    # Define a kernel size and apply Gaussian smoothing\n",
    "    kernel_size = 11\n",
    "    blur_gray = cv2.GaussianBlur(gray,(kernel_size, kernel_size),0)\n",
    "\n",
    "    # Define our parameters for Canny and apply\n",
    "    low_threshold = 100\n",
    "    high_threshold = 50\n",
    "    edges = cv2.Canny(blur_gray, low_threshold, high_threshold)\n",
    "    # Next we'll create a masked edges image using cv2.fillPoly()\n",
    "    mask = np.zeros_like(edges)   \n",
    "    ignore_mask_color = 255   \n",
    "\n",
    "    # This time we are defining a four sided polygon to mask\n",
    "    imshape = image.shape\n",
    "    print(imshape)\n",
    "    vertices = np.array([[(0,imshape[0]),(475, 320),(475, 320), (imshape[1],imshape[0])]], dtype=np.int32)\n",
    "    print(vertices)\n",
    "    cv2.fillPoly(mask, vertices, ignore_mask_color)\n",
    "    masked_edges = cv2.bitwise_and(edges, mask)\n",
    "\n",
    "    # Define the Hough transform parameters\n",
    "    # Make a blank the same size as our image to draw on\n",
    "    #rho = 2 # distance resolution in pixels of the Hough grid\n",
    "    theta = np.pi/180 # angular resolution in radians of the Hough grid\n",
    "    #threshold = 15     # minimum number of votes (intersections in Hough grid cell)\n",
    "    #min_line_length = 40 #minimum number of pixels making up a line\n",
    "    #max_line_gap = 25   # maximum gap in pixels between connectable line segments\n",
    "    line_image = np.copy(image)*0 # creating a blank to draw lines on\n",
    "\n",
    "    # Run Hough on edge detected image\n",
    "    # Output \"lines\" is an array containing endpoints of detected line segments\n",
    "    lines = cv2.HoughLinesP(masked_edges, rho, theta, threshold, np.array([]),\n",
    "                                min_len, max_len)\n",
    "\n",
    "    # Iterate over the output \"lines\" and draw lines on a blank image\n",
    "    for line in lines:\n",
    "        for x1,y1,x2,y2 in line:\n",
    "            cv2.line(line_image,(x1,y1),(x2,y2),(255,0,0),10)\n",
    "\n",
    "    # Create a \"color\" binary image to combine with line image\n",
    "    color_edges = np.dstack((edges, edges, edges)) \n",
    "\n",
    "    # Draw the lines on the edge image\n",
    "    lines_edges = cv2.addWeighted(color_edges, 0.8, line_image, 1, 0) \n",
    "    plt.imshow(lines_edges)\n",
    "\n",
    "\n",
    "\n",
    "interact(lane_func, rho = IntSlider(value=2,\n",
    "                                      min = 1,\n",
    "                                    max = 10,\n",
    "                                    step =1,\n",
    "                                    description = 'Rho',\n",
    "                                    layout =Layout(width = '490px', margin = '0 0 5px 0')),\\\n",
    "                                  threshold = IntSlider(value=100,\n",
    "                                      min = 1,\n",
    "                                    max = 200,\n",
    "                                    description = 'Threshold',\n",
    "                                    layout =Layout(width = '490px', margin = '0 0 5px 0')),\\\n",
    "                                  min_len = IntSlider(value=0,\n",
    "                                      min = 1,\n",
    "                                    max = 100,\n",
    "                                    description = 'Min lane length',\n",
    "                                    layout =Layout(width = '490px', margin = '0 0 5px 0')),\\\n",
    "                                  max_len = IntSlider(value=20,\n",
    "                                      min = 1,\n",
    "                                    max = 100,\n",
    "                                    description = 'Max lane length',\n",
    "                                    layout = Layout(width = '490px', margin = '0 0 5px 0')))"
   ]
  },
  {
   "cell_type": "code",
   "execution_count": null,
   "metadata": {},
   "outputs": [],
   "source": []
  }
 ],
 "metadata": {
  "kernelspec": {
   "display_name": "Python 3",
   "language": "python",
   "name": "python3"
  },
  "language_info": {
   "codemirror_mode": {
    "name": "ipython",
    "version": 3
   },
   "file_extension": ".py",
   "mimetype": "text/x-python",
   "name": "python",
   "nbconvert_exporter": "python",
   "pygments_lexer": "ipython3",
   "version": "3.7.5"
  }
 },
 "nbformat": 4,
 "nbformat_minor": 2
}
